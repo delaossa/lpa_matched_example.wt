{
 "cells": [
  {
   "cell_type": "markdown",
   "metadata": {},
   "source": [
    "# Wake-T example: guided LPA with beamloading"
   ]
  },
  {
   "cell_type": "markdown",
   "metadata": {},
   "source": [
    "### Import libraries"
   ]
  },
  {
   "cell_type": "code",
   "execution_count": null,
   "metadata": {},
   "outputs": [],
   "source": [
    "# import libraries\n",
    "import scipy.constants as ct\n",
    "import numpy as np\n",
    "import copy"
   ]
  },
  {
   "cell_type": "markdown",
   "metadata": {},
   "source": [
    "### Global optimization parameters"
   ]
  },
  {
   "cell_type": "code",
   "execution_count": null,
   "metadata": {},
   "outputs": [],
   "source": [
    "# Optimization parameters\n",
    "# (relative variations w.r.t. nominal values)\n",
    "# laser\n",
    "intensity_factor = 0.0\n",
    "tau_factor = 0.0\n",
    "# plasma\n",
    "plasma_density_factor = 0.  # \n",
    "# beam\n",
    "beam_z_factor = 0.0  # \n",
    "beam_length_factor = 0.0\n",
    "beam_i0_factor = 0.0\n",
    "beam_i1_factor = 0.2"
   ]
  },
  {
   "cell_type": "markdown",
   "metadata": {},
   "source": [
    "## Define plasma, laser and witness beam"
   ]
  },
  {
   "cell_type": "code",
   "execution_count": null,
   "metadata": {},
   "outputs": [],
   "source": [
    "# plasma density profile\n",
    "factor = 1.  # <- rescale the global plasma density by this factor\n",
    "np0 = (0.984e24 / factor) * (1. + plasma_density_factor)\n",
    "ramp_up = 1e-3 * np.sqrt(factor)\n",
    "# plateau = 1e-2\n",
    "plateau = 2.5e-2 * np.power(factor, 3. / 2.)\n",
    "ramp_down = 1e-3 * np.sqrt(factor)\n",
    "ramp_decay_length = 0.5e-3 * np.sqrt(factor)\n",
    "L_plasma = ramp_up + plateau + ramp_down\n",
    "kp = np.sqrt(np0 * ct.e**2 / (ct.epsilon_0 * ct.m_e * ct.c**2))\n",
    "lambdap = 2. * np.pi / kp\n",
    "E0 = kp * ct.m_e * ct.c**2 / ct.e\n",
    "\n",
    "def density_profile(z):\n",
    "    # Allocate relative density\n",
    "    n = np.ones_like(z)\n",
    "    # Make ramp up\n",
    "    n = np.where(z < ramp_up, 1 / (1 + (ramp_up - z) / ramp_decay_length)**2, n)\n",
    "    # Make ramp down\n",
    "    n = np.where( (z >= ramp_up + plateau) & (z < ramp_up + plateau + ramp_down),\n",
    "            1 / (1 + (z - ramp_up - plateau) / ramp_decay_length)**2, n)\n",
    "    # Make zero after downramp\n",
    "    n = np.where( z >= ramp_up + plateau + ramp_down, 0, n)\n",
    "    # Return absolute density\n",
    "    return n * np0"
   ]
  },
  {
   "cell_type": "code",
   "execution_count": null,
   "metadata": {},
   "outputs": [],
   "source": [
    "# Laser parameters\n",
    "#\n",
    "lambda0 = 0.8e-6\n",
    "# LUX parameters\n",
    "a0 = 2.027246 * np.sqrt(1. + intensity_factor)\n",
    "w0_orig = 22.352e-6 * np.sqrt(factor)\n",
    "tau_fwhm = 33.414e-15 * np.sqrt(factor) * (1. + tau_factor)\n",
    "tau = tau_fwhm / np.sqrt(2. * np.log(2))\n",
    "\n",
    "# match laser spot size and focal position\n",
    "from find_matching_func import find_matching\n",
    "\n",
    "def upramp_profile(z, zp):\n",
    "    n = density_profile(z)\n",
    "    return n / np0\n",
    "\n",
    "z_foc, w0 = find_matching(rm=w0_orig, lambda0=lambda0,\n",
    "                          zp=ramp_up, ramp=upramp_profile)\n",
    "\n",
    "# guiding channel depth\n",
    "r_e = ct.e**2 / (4. * np.pi * ct.epsilon_0 * ct.m_e * ct.c**2)  # electron radius\n",
    "rel_delta_n_over_w2 = 1. / (np.pi * r_e * w0**4 * np0)  # matched channel depth\n",
    "\n",
    "# laser centroid comoving position\n",
    "zmax = 0.  # right edge of the simulation\n",
    "zl0 = zmax - 2. * ct.c * tau  # Laser centroid\n",
    "\n",
    "# other laser parameters\n",
    "k0 = 2. * np.pi / lambda0  # Laser wavenumber\n",
    "PA = ct.epsilon_0 * ct.c**5 * ct.m_e**2 / ct.e**2  # Power constant\n",
    "i0 = PA * a0**2 * k0**2 / 2  # Laser peak intensity\n",
    "El0 = k0 * ct.m_e * ct.c**2 * a0 / ct.e   # Laser peak electric field\n",
    "zR = np.pi * w0**2 / lambda0  # Rayleigh length\n",
    "P0 = (np.pi / 2) * i0 * w0**2  # Peak power\n",
    "Ene0 = np.sqrt(2 * np.pi) * (tau / 2) * P0\n",
    "# Laser spot size at the start of the simulation:\n",
    "w_start = w0 * np.sqrt(1 + ((z_foc - zl0) / zR)**2)"
   ]
  },
  {
   "cell_type": "code",
   "execution_count": null,
   "metadata": {},
   "outputs": [],
   "source": [
    "# Witness bunch parameters (trapezoidal)\n",
    "#\n",
    "gamma0  = 100  # Lorentz factor (average)\n",
    "sgamma0 = 0.005 * gamma0  # spread\n",
    "emit0  = 1e-6  # normalized_emittance\n",
    "kbeta = kp / np.sqrt(2. * gamma0)  # betatron wavenumber (blowout)\n",
    "betax0 = 1. / kbeta   # matched beta\n",
    "sx0 = np.sqrt(emit0 * betax0 / gamma0)  # matched beam size (rms)\n",
    "i0 = 5.e3 * (1 + beam_i0_factor)  # current (left edge)\n",
    "i1 = 5.e3 * (1 + beam_i1_factor)  # current (right edge)\n",
    "n1 = i1 / (2. * np.pi * ct.c * ct.e * sx0**2)  # peak density\n",
    "bunch_length = 4.7e-6 * np.sqrt(factor)  # bunch length (edge to edge distance)\n",
    "sz0 = 0.1e-6  # gaussian decay\n",
    "zc = zl0 - (3.6 * lambdap / 4.) * (1 + beam_z_factor)  # bunch center\n",
    "z1 = zc + bunch_length / 2.\n",
    "bunch_length = bunch_length * (1 + beam_length_factor)\n",
    "z0 = z1 - bunch_length\n",
    "zc = (z0 + z1) / 2. # bunch middle position\n",
    "q_plat = (min(i0, i1) / ct.c) * bunch_length \n",
    "q_triag = ((max(i0, i1) - min(i0, i1)) / ct.c) * bunch_length / 2.\n",
    "q_gaus0 = (i0 / ct.c) * np.sqrt(2 * np.pi) * sz0 / 2.\n",
    "q_gaus1 = (i1 / ct.c) * np.sqrt(2 * np.pi) * sz0 / 2.\n",
    "q_tot = q_plat + q_triag + q_gaus0 + q_gaus1  # bunch total charge\n",
    "n_part = 1e4  # number of beam macroparticles\n",
    "# bunch injection position:\n",
    "zf = ramp_up + 2.05e-3 * np.power(factor, 3. / 2.)\n",
    "# zf = 14e-3\n"
   ]
  },
  {
   "cell_type": "markdown",
   "metadata": {},
   "source": [
    "## Wake-t configuration and run"
   ]
  },
  {
   "cell_type": "code",
   "execution_count": null,
   "metadata": {},
   "outputs": [],
   "source": [
    "# simulation box\n",
    "L_box = 55e-6 * np.sqrt(factor)  # Box length\n",
    "zmin = zmax - L_box      # Left edge of the simulation box (meters)\n",
    "rmax_plasma = 2.5 * w_start   # radius of the plasma column\n",
    "rmax = 3.2 * w_start   # radius of the simulation box\n",
    "dz_adv = 0.1e-6 * np.sqrt(factor)   # longitudinal resolution\n",
    "Nz = int(L_box / dz_adv)  # Number of gridpoints along z\n",
    "dr_adv = 0.1 / kp  # transverse resolution\n",
    "Nr = int(rmax / dr_adv)  # Number of gridpoints along r\n",
    "ppc = 2  # plasma particles per cell\n",
    "dz_fields = L_box  # field update step"
   ]
  },
  {
   "cell_type": "code",
   "execution_count": null,
   "metadata": {},
   "outputs": [],
   "source": [
    "# create wake_t objects\n",
    "from wake_t.beamline_elements import PlasmaStage\n",
    "from wake_t import GaussianPulse\n",
    "from wake_t.particles.particle_bunch import ParticleBunch\n",
    "from wake_t.diagnostics import analyze_bunch, analyze_bunch_list\n",
    "from bunch_utils import trapezoidal_bunch\n",
    "\n",
    "# Laser object\n",
    "laser = GaussianPulse(xi_c=zl0, l_0=lambda0, w_0=w0,\n",
    "                      a_0=a0, tau=tau_fwhm, z_foc=z_foc)\n",
    "\n",
    "# Generate bunch\n",
    "x, y, z, ux, uy, uz, q = trapezoidal_bunch(i0, i1, n_part=n_part,\n",
    "                                           gamma0=gamma0, s_g=sgamma0,\n",
    "                                           length=bunch_length,\n",
    "                                           s_z=sz0, emit_x=emit0, s_x=sx0,\n",
    "                                           zf=zf, tf=(zf - zc) / ct.c)\n",
    "# Bunch object\n",
    "bunch = ParticleBunch(q, x, y, z, ux, uy, uz,\n",
    "                      z_injection=zf,\n",
    "                      name='bunch')\n",
    "\n",
    "# Plasma stage: propagation length and diagnostics period\n",
    "prop_length = 2.0 * zf\n",
    "# Diagnostics period (meters)\n",
    "diag_period = prop_length\n",
    "# Number of diagnostic snapshots\n",
    "N_diag = int(prop_length / diag_period)\n",
    "prop_length = N_diag * diag_period\n",
    "N_diag = N_diag + 1\n",
    "\n",
    "# Plasma stage object\n",
    "plasma = PlasmaStage(\n",
    "    length=prop_length, density=density_profile, laser=laser,\n",
    "    wakefield_model='quasistatic_2d', n_out=N_diag,\n",
    "    laser_evolution=True,\n",
    "    r_max=rmax, r_max_plasma=rmax_plasma, xi_min=zmin, xi_max=zmax,\n",
    "    n_r=Nr, n_xi=Nz, dz_fields=dz_fields, ppc=ppc,\n",
    "    parabolic_coefficient=rel_delta_n_over_w2)"
   ]
  },
  {
   "cell_type": "code",
   "execution_count": null,
   "metadata": {},
   "outputs": [],
   "source": [
    "# track the bunch through the plasma stage\n",
    "bunch_list = plasma.track(bunch, out_initial=False, opmd_diag=True)"
   ]
  },
  {
   "cell_type": "markdown",
   "metadata": {},
   "source": [
    "## Visualize and analyze"
   ]
  },
  {
   "cell_type": "code",
   "execution_count": null,
   "metadata": {},
   "outputs": [],
   "source": [
    "import matplotlib.pyplot as plt"
   ]
  },
  {
   "cell_type": "code",
   "execution_count": null,
   "metadata": {},
   "outputs": [],
   "source": [
    "# plot plasma profile\n",
    "fig, ax = plt.subplots(figsize=(8, 3), dpi=120)\n",
    "z = np.arange(0., prop_length, prop_length / 100.)\n",
    "ax.plot(z / 1e-3, density_profile(z) / 1e24, label='plasma', lw=3)\n",
    "ax.set_ylabel('density ($\\mathrm{10^{18}~cm^{3}}$)')\n",
    "ax.set_xlabel('distance (mm)')"
   ]
  },
  {
   "cell_type": "code",
   "execution_count": null,
   "metadata": {},
   "outputs": [],
   "source": [
    "# plot fields\n",
    "from openpmd_viewer import OpenPMDTimeSeries\n",
    "\n",
    "# access data\n",
    "iteration = N_diag - 1\n",
    "ts = OpenPMDTimeSeries('./diags/hdf5', backend='h5py')\n",
    "\n",
    "# get particle density\n",
    "rho, info_rho = ts.get_field(iteration=iteration, field='rho')\n",
    "nden = -rho / ct.e\n",
    "# add bunch particle density to plasma\n",
    "x, y, z, w = ts.get_particle( var_list=['x', 'y', 'z', 'w'], iteration=iteration, species='bunch')\n",
    "nx, nz = rho.shape[0], rho.shape[1]\n",
    "dx, dz = info_rho.dr, info_rho.dz\n",
    "dy = dx\n",
    "filter = (y >= -dy / 2) & (y <= dy / 2)  # filter particles to the central y-slice\n",
    "x, z, w = x[filter], z[filter], w[filter]\n",
    "extent = info_rho.imshow_extent\n",
    "nden_bunch, *_ = np.histogram2d(z, x, bins=[nz, nx], range=[[extent[0], extent[1]],[extent[2], extent[3]]], weights=w)\n",
    "nden_bunch = nden_bunch.T / (dy * dx * dz)\n",
    "nden = nden + nden_bunch\n",
    "\n",
    "# get longitudinal electric field\n",
    "Ez, *_ = ts.get_field(iteration=iteration, field='E', coord='z')\n",
    "\n",
    "# list of fields to plot\n",
    "fields = [nden / 1e24, Ez / 1e9]\n",
    "labels = ['density ($\\mathrm{10^{18}~cm^{3}}$)', '$\\mathrm{E_z~(GV/m)}$']\n",
    "cmaps = ['gray_r', 'RdBu_r']\n",
    "vranges = [[0.1 * np0 / 1e24, 5 * np0 / 1e24], [-1.2 * E0 / 1e9, 1.2 * E0 / 1e9]]\n",
    "extent[0:2] = extent[0:2] / 1e-3\n",
    "extent[2:4] = extent[2:4] / 1e-6\n",
    "\n",
    "npanels = len(fields)\n",
    "fig, axs = plt.subplots(npanels, figsize=(4 * npanels, 6), sharex=True, dpi=120)\n",
    "for i, ax in enumerate(axs):\n",
    "    # plot 2D field \n",
    "    fieldax = ax.imshow(fields[i], extent=extent, aspect='auto', cmap=cmaps[i], vmin=vranges[i][0], vmax=vranges[i][1])\n",
    "    # ax.ticklabel_format(axis='both', style='sci', scilimits=(0, 0))\n",
    "    if i == npanels - 1:\n",
    "        ax.set_xlabel('z (mm)')\n",
    "    ax.set_ylabel('x ($\\mathrm{\\mu m}$)')\n",
    "    yrange = extent[3] - extent[2]\n",
    "    ymid = (extent[3] + extent[2]) / 2\n",
    "    # zoom in y direction\n",
    "    ymin = ymid - yrange / 4\n",
    "    ymax = ymid + yrange / 4\n",
    "    ax.set_ylim(ymin, ymax)\n",
    "    # set color bar\n",
    "    cbar = fig.colorbar(fieldax, ax=ax)\n",
    "    cbar.set_label(labels[i])\n",
    "    # cbar.formatter.set_powerlimits((0, 0))\n",
    "    if i == 0:\n",
    "        continue\n",
    "    # plot on-axis outline\n",
    "    ax2 = ax.twinx()\n",
    "    ax2.set_ylim(vranges[i][0], vranges[i][1])\n",
    "    field0 = fields[i][int(nx / 2)][:]\n",
    "    z = np.linspace(extent[0], extent[1], nz)\n",
    "    ax2.plot(z, field0, color='gray', lw=2)\n",
    "    plt.axis('off')"
   ]
  },
  {
   "cell_type": "code",
   "execution_count": null,
   "metadata": {},
   "outputs": [],
   "source": [
    "%%capture --no-display\n",
    "# plot bunch\n",
    "from aptools.plotting.quick_diagnostics import slice_analysis\n",
    "fig = plt.figure(figsize=(5, 4), dpi=120)\n",
    "slice_analysis(bunch.x, bunch.y, bunch.xi, bunch.px, bunch.py, bunch.pz, bunch.q, fig=fig)\n",
    "plt.show()"
   ]
  }
 ],
 "metadata": {
  "interpreter": {
   "hash": "26e65bf17bc422f6f760366e5074b581d3c346a66e25699da8212ae022993635"
  },
  "kernelspec": {
   "display_name": "Python 3.9.6 64-bit ('vptools': conda)",
   "name": "python3"
  },
  "language_info": {
   "codemirror_mode": {
    "name": "ipython",
    "version": 3
   },
   "file_extension": ".py",
   "mimetype": "text/x-python",
   "name": "python",
   "nbconvert_exporter": "python",
   "pygments_lexer": "ipython3",
   "version": "3.9.6"
  }
 },
 "nbformat": 4,
 "nbformat_minor": 2
}
